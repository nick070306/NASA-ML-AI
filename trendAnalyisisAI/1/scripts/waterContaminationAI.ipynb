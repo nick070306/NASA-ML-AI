{
 "cells": [
  {
   "cell_type": "code",
   "execution_count": 11,
   "id": "6d0b8fc4",
   "metadata": {},
   "outputs": [
    {
     "name": "stdout",
     "output_type": "stream",
     "text": [
      "              precision    recall  f1-score   support\n",
      "\n",
      "   ANOMALOUS       1.00      0.83      0.91         6\n",
      "      NORMAL       0.99      1.00      1.00       119\n",
      "\n",
      "    accuracy                           0.99       125\n",
      "   macro avg       1.00      0.92      0.95       125\n",
      "weighted avg       0.99      0.99      0.99       125\n",
      "\n"
     ]
    },
    {
     "ename": "NameError",
     "evalue": "name 'model2' is not defined",
     "output_type": "error",
     "traceback": [
      "\u001b[1;31m---------------------------------------------------------------------------\u001b[0m",
      "\u001b[1;31mNameError\u001b[0m                                 Traceback (most recent call last)",
      "\u001b[1;32m~\\AppData\\Local\\Temp\\ipykernel_14596\\532586764.py\u001b[0m in \u001b[0;36m<module>\u001b[1;34m\u001b[0m\n\u001b[0;32m     60\u001b[0m \u001b[1;32mfor\u001b[0m \u001b[0mvalues\u001b[0m\u001b[1;33m,\u001b[0m \u001b[0mstatus\u001b[0m \u001b[1;32min\u001b[0m \u001b[0mzip\u001b[0m\u001b[1;33m(\u001b[0m\u001b[0mnew_values\u001b[0m\u001b[1;33m,\u001b[0m \u001b[0mstatus_values\u001b[0m\u001b[1;33m)\u001b[0m\u001b[1;33m:\u001b[0m\u001b[1;33m\u001b[0m\u001b[1;33m\u001b[0m\u001b[0m\n\u001b[0;32m     61\u001b[0m     \u001b[1;31m# Call the ck_value function to get the prediction\u001b[0m\u001b[1;33m\u001b[0m\u001b[1;33m\u001b[0m\u001b[0m\n\u001b[1;32m---> 62\u001b[1;33m     \u001b[0mresult\u001b[0m \u001b[1;33m=\u001b[0m \u001b[0mck_value\u001b[0m\u001b[1;33m(\u001b[0m\u001b[0mvalues\u001b[0m\u001b[1;33m[\u001b[0m\u001b[1;36m0\u001b[0m\u001b[1;33m]\u001b[0m\u001b[1;33m,\u001b[0m \u001b[0mvalues\u001b[0m\u001b[1;33m[\u001b[0m\u001b[1;36m1\u001b[0m\u001b[1;33m]\u001b[0m\u001b[1;33m)\u001b[0m  \u001b[1;31m# Pass the appropriate values to the function\u001b[0m\u001b[1;33m\u001b[0m\u001b[1;33m\u001b[0m\u001b[0m\n\u001b[0m\u001b[0;32m     63\u001b[0m \u001b[1;33m\u001b[0m\u001b[0m\n\u001b[0;32m     64\u001b[0m     \u001b[1;31m# Dynamically create the Input label-output string\u001b[0m\u001b[1;33m\u001b[0m\u001b[1;33m\u001b[0m\u001b[0m\n",
      "\u001b[1;32m~\\AppData\\Local\\Temp\\ipykernel_14596\\1468217272.py\u001b[0m in \u001b[0;36mck_value\u001b[1;34m(water_volume, flow_rate)\u001b[0m\n\u001b[0;32m      2\u001b[0m     \u001b[1;31m# Create a DataFrame with the input values and proper column names\u001b[0m\u001b[1;33m\u001b[0m\u001b[1;33m\u001b[0m\u001b[0m\n\u001b[0;32m      3\u001b[0m     \u001b[0minput_df\u001b[0m \u001b[1;33m=\u001b[0m \u001b[0mpd\u001b[0m\u001b[1;33m.\u001b[0m\u001b[0mDataFrame\u001b[0m\u001b[1;33m(\u001b[0m\u001b[1;33m[\u001b[0m\u001b[1;33m[\u001b[0m\u001b[0mwater_volume\u001b[0m\u001b[1;33m,\u001b[0m \u001b[0mflow_rate\u001b[0m\u001b[1;33m]\u001b[0m\u001b[1;33m]\u001b[0m\u001b[1;33m,\u001b[0m \u001b[0mcolumns\u001b[0m\u001b[1;33m=\u001b[0m\u001b[1;33m[\u001b[0m\u001b[1;34m'Contamination'\u001b[0m\u001b[1;33m,\u001b[0m \u001b[1;34m'Filter Efficiency'\u001b[0m\u001b[1;33m]\u001b[0m\u001b[1;33m)\u001b[0m\u001b[1;33m\u001b[0m\u001b[1;33m\u001b[0m\u001b[0m\n\u001b[1;32m----> 4\u001b[1;33m     \u001b[0mprediction\u001b[0m \u001b[1;33m=\u001b[0m \u001b[0mmodel2\u001b[0m\u001b[1;33m.\u001b[0m\u001b[0mpredict\u001b[0m\u001b[1;33m(\u001b[0m\u001b[0minput_df\u001b[0m\u001b[1;33m)\u001b[0m\u001b[1;33m\u001b[0m\u001b[1;33m\u001b[0m\u001b[0m\n\u001b[0m\u001b[0;32m      5\u001b[0m     \u001b[1;32mreturn\u001b[0m \u001b[0mprediction\u001b[0m\u001b[1;33m[\u001b[0m\u001b[1;36m0\u001b[0m\u001b[1;33m]\u001b[0m\u001b[1;33m\u001b[0m\u001b[1;33m\u001b[0m\u001b[0m\n\u001b[0;32m      6\u001b[0m \u001b[1;33m\u001b[0m\u001b[0m\n",
      "\u001b[1;31mNameError\u001b[0m: name 'model2' is not defined"
     ]
    }
   ],
   "source": [
    "import numpy as np\n",
    "import pandas as pd\n",
    "from sklearn.model_selection import train_test_split\n",
    "from sklearn.ensemble import RandomForestClassifier\n",
    "from sklearn.metrics import classification_report\n",
    "\n",
    "# Load the dataset\n",
    "df = pd.read_csv('../datasets/WaterContaminationControlLogsTrain.csv')\n",
    "\n",
    "# Assuming the columns in the CSV are named 'Water Volume', 'Flow Rate', and 'Status'\n",
    "data = {\n",
    "    'Contamination': df['Contamination'].tolist(),\n",
    "    'Filter Efficiency': df['Filter Efficiency'].tolist(),\n",
    "    'Status': df['Status'].tolist()\n",
    "}\n",
    "\n",
    "# Creating a DataFrame\n",
    "df = pd.DataFrame(data)\n",
    "\n",
    "# Feature and label separation\n",
    "X = df[['Contamination', 'Filter Efficiency']]\n",
    "y = df['Status']\n",
    "\n",
    "# Check the number of unique classes\n",
    "num_classes = y.nunique()\n",
    "\n",
    "if len(X) < num_classes:\n",
    "    raise ValueError(f\"Not enough samples to create a test set with each class present. Total samples: {len(X)}, Classes: {num_classes}\")\n",
    "\n",
    "# Adjusted test size\n",
    "test_size = 0.25  # 25% test size\n",
    "\n",
    "# Stratified train-test split\n",
    "X_train, X_test, y_train, y_test = train_test_split(X, y, test_size=test_size, random_state=42, stratify=y)\n",
    "\n",
    "# Train the model\n",
    "model = RandomForestClassifier()\n",
    "model.fit(X_train, y_train)\n",
    "\n",
    "# Evaluate the model\n",
    "y_pred = model.predict(X_test)\n",
    "print(classification_report(y_test, y_pred, zero_division=0))\n",
    "\n",
    "\n",
    "\n",
    "\n",
    "\n",
    "\n",
    "# Function to classify new input data based on 'Water Volume' and 'Flow Rate'\n",
    "def ck_value(input_values):\n",
    "    # Create a DataFrame with the input_values and proper column names\n",
    "    input_df = pd.DataFrame([input_values], columns=labels)\n",
    "    prediction = model2.predict(input_df)\n",
    "    return prediction[0]\n",
    "\n",
    "# Load test data\n",
    "tdf = pd.read_csv('../datasets/WaterContaminationControlLogsTest.csv')\n",
    "\n",
    "\n",
    "labels = ['Contamination', 'Filter Efficiency']  # You can modify this list as needed\n",
    "new_values = tdf[labels].values.tolist()  # Extract rows for the selected features\n",
    "status_values = tdf['Status'].tolist()  # Extract the 'status' column for comparison\n",
    "\n",
    "# Iterate through the inputs and make predictions\n",
    "for values, status in zip(new_values, status_values):\n",
    "    # Dynamically create the Input label-output string\n",
    "    input_details = ', '.join(f\"{label}: {value}\" for label, value in zip(labels, values))\n",
    "    print(f'Input: ({input_details}), Classification: {result}, Real Result: {status}')\n",
    "\n",
    "import joblib\n",
    "joblib.dump(model, '../models/water_contamination.pkl')\n"
   ]
  },
  {
   "cell_type": "code",
   "execution_count": 10,
   "id": "969768ee",
   "metadata": {},
   "outputs": [
    {
     "ename": "NameError",
     "evalue": "name 'joblib' is not defined",
     "output_type": "error",
     "traceback": [
      "\u001b[1;31m---------------------------------------------------------------------------\u001b[0m",
      "\u001b[1;31mNameError\u001b[0m                                 Traceback (most recent call last)",
      "\u001b[1;32m~\\AppData\\Local\\Temp\\ipykernel_14596\\17891296.py\u001b[0m in \u001b[0;36m<module>\u001b[1;34m\u001b[0m\n\u001b[1;32m----> 1\u001b[1;33m \u001b[0mmodel2\u001b[0m \u001b[1;33m=\u001b[0m \u001b[0mjoblib\u001b[0m\u001b[1;33m.\u001b[0m\u001b[0mload\u001b[0m\u001b[1;33m(\u001b[0m\u001b[1;34m'../models/water_contamination.pkl'\u001b[0m\u001b[1;33m)\u001b[0m\u001b[1;33m\u001b[0m\u001b[1;33m\u001b[0m\u001b[0m\n\u001b[0m",
      "\u001b[1;31mNameError\u001b[0m: name 'joblib' is not defined"
     ]
    }
   ],
   "source": [
    "model2 = joblib.load('../models/water_contamination.pkl')"
   ]
  },
  {
   "cell_type": "code",
   "execution_count": 7,
   "id": "c360e752",
   "metadata": {},
   "outputs": [
    {
     "ename": "NameError",
     "evalue": "name 'result' is not defined",
     "output_type": "error",
     "traceback": [
      "\u001b[1;31m---------------------------------------------------------------------------\u001b[0m",
      "\u001b[1;31mNameError\u001b[0m                                 Traceback (most recent call last)",
      "\u001b[1;32m~\\AppData\\Local\\Temp\\ipykernel_14596\\1468217272.py\u001b[0m in \u001b[0;36m<module>\u001b[1;34m\u001b[0m\n\u001b[0;32m     16\u001b[0m     \u001b[1;31m# Dynamically create the Input label-output string\u001b[0m\u001b[1;33m\u001b[0m\u001b[1;33m\u001b[0m\u001b[0m\n\u001b[0;32m     17\u001b[0m     \u001b[0minput_details\u001b[0m \u001b[1;33m=\u001b[0m \u001b[1;34m', '\u001b[0m\u001b[1;33m.\u001b[0m\u001b[0mjoin\u001b[0m\u001b[1;33m(\u001b[0m\u001b[1;34mf\"{label}: {value}\"\u001b[0m \u001b[1;32mfor\u001b[0m \u001b[0mlabel\u001b[0m\u001b[1;33m,\u001b[0m \u001b[0mvalue\u001b[0m \u001b[1;32min\u001b[0m \u001b[0mzip\u001b[0m\u001b[1;33m(\u001b[0m\u001b[0mlabels\u001b[0m\u001b[1;33m,\u001b[0m \u001b[0mvalues\u001b[0m\u001b[1;33m)\u001b[0m\u001b[1;33m)\u001b[0m\u001b[1;33m\u001b[0m\u001b[1;33m\u001b[0m\u001b[0m\n\u001b[1;32m---> 18\u001b[1;33m     \u001b[0mprint\u001b[0m\u001b[1;33m(\u001b[0m\u001b[1;34mf'Input: ({input_details}), Classification: {result}, Real Result: {status}'\u001b[0m\u001b[1;33m)\u001b[0m\u001b[1;33m\u001b[0m\u001b[1;33m\u001b[0m\u001b[0m\n\u001b[0m",
      "\u001b[1;31mNameError\u001b[0m: name 'result' is not defined"
     ]
    }
   ],
   "source": [
    "def ck_value(water_volume, flow_rate):\n",
    "    # Create a DataFrame with the input values and proper column names\n",
    "    input_df = pd.DataFrame([[water_volume, flow_rate]], columns=['Contamination', 'Filter Efficiency'])\n",
    "    prediction = model2.predict(input_df)\n",
    "    return prediction[0]\n",
    "\n",
    "tdf = pd.read_csv('../datasets/WaterContaminationControlLogsTest.csv')\n",
    "\n",
    "\n",
    "labels = ['Contamination', 'Filter Efficiency']  # You can modify this list as needed\n",
    "new_values = tdf[labels].values.tolist()  # Extract rows for the selected features\n",
    "status_values = tdf['Status'].tolist()  # Extract the 'status' column for comparison\n",
    "\n",
    "# Iterate through the inputs and make predictions\n",
    "for values, status in zip(new_values, status_values):\n",
    "    # Dynamically create the Input label-output string\n",
    "    input_details = ', '.join(f\"{label}: {value}\" for label, value in zip(labels, values))\n",
    "    print(f'Input: ({input_details}), Classification: {result}, Real Result: {status}')\n"
   ]
  },
  {
   "cell_type": "code",
   "execution_count": null,
   "id": "2c8269e9",
   "metadata": {},
   "outputs": [],
   "source": []
  }
 ],
 "metadata": {
  "kernelspec": {
   "display_name": "Python 3 (ipykernel)",
   "language": "python",
   "name": "python3"
  },
  "language_info": {
   "codemirror_mode": {
    "name": "ipython",
    "version": 3
   },
   "file_extension": ".py",
   "mimetype": "text/x-python",
   "name": "python",
   "nbconvert_exporter": "python",
   "pygments_lexer": "ipython3",
   "version": "3.9.13"
  }
 },
 "nbformat": 4,
 "nbformat_minor": 5
}
