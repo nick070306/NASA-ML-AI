{
 "cells": [
  {
   "cell_type": "code",
   "execution_count": 2,
   "id": "f3cd54b5",
   "metadata": {},
   "outputs": [
    {
     "name": "stdout",
     "output_type": "stream",
     "text": [
      "Loading model from: C:\\Users\\kohrs60330\\Documents\\NASA AI\\NASA-ML-AI\\trendAnalyisisAI\\1\\portableWaterQuality\\potable_water_quality.pkl\n",
      "Model loaded successfully: potable_water_quality.pkl\n",
      "Loading model from: C:\\Users\\kohrs60330\\Documents\\NASA AI\\NASA-ML-AI\\trendAnalyisisAI\\1\\potableWaterDispensingRate\\potable_water_dispensing_rate.pkl\n",
      "Model loaded successfully: potable_water_dispensing_rate.pkl\n",
      "Loading model from: C:\\Users\\kohrs60330\\Documents\\NASA AI\\NASA-ML-AI\\trendAnalyisisAI\\1\\waterContaminationControl\\water_contamination.pkl\n",
      "Model loaded successfully: water_contamination.pkl\n",
      "Loading model from: C:\\Users\\kohrs60330\\Documents\\NASA AI\\NASA-ML-AI\\trendAnalyisisAI\\1\\waterQuantity\\water_quantity.pkl\n",
      "Model loaded successfully: water_quantity.pkl\n",
      "Loading model from: C:\\Users\\kohrs60330\\Documents\\NASA AI\\NASA-ML-AI\\trendAnalyisisAI\\1\\waterTemp\\water_temp.pkl\n",
      "Model loaded successfully: water_temp.pkl\n",
      "Loaded model from: potable_water_quality.pkl\n",
      "Loaded model from: potable_water_dispensing_rate.pkl\n",
      "Loaded model from: water_contamination.pkl\n",
      "Loaded model from: water_quantity.pkl\n",
      "Loaded model from: water_temp.pkl\n"
     ]
    }
   ],
   "source": [
    "import os\n",
    "import joblib \n",
    "\n",
    "def load_models_from_pkl():\n",
    "    # List to store loaded models along with their filenames\n",
    "    models = []\n",
    "\n",
    "    # Get the current working directory (where this script is located)\n",
    "    current_directory = os.getcwd()\n",
    "\n",
    "    # Move up to the parent directory\n",
    "    parent_directory = os.path.abspath(os.path.join(current_directory, '..'))\n",
    "\n",
    "    # Traverse the parent directory structure\n",
    "    for root, dirs, files in os.walk(parent_directory):\n",
    "        for file in files:\n",
    "            # Check if the file is a .pkl file (model file)\n",
    "            if file.endswith(\".pkl\"):\n",
    "                model_path = os.path.join(root, file)\n",
    "                print(f\"Loading model from: {model_path}\")\n",
    "                \n",
    "                try:\n",
    "                    # Load the model (use joblib.load or pickle.load)\n",
    "                    model = joblib.load(model_path)  # Or replace with pickle.load(open(model_path, 'rb'))\n",
    "\n",
    "                    # Append a dictionary with the model and its file name to the list\n",
    "                    models.append({\"filename\": file, \"model\": model})\n",
    "                    print(f\"Model loaded successfully: {file}\")\n",
    "\n",
    "                except Exception as e:\n",
    "                    # Handle any errors during loading\n",
    "                    print(f\"Error loading model from {model_path}: {str(e)}\")\n",
    "\n",
    "    # Return the list of loaded models with their filenames\n",
    "    return models\n",
    "\n",
    "# Run the function and store the models in an array (list)\n",
    "loaded_models = load_models_from_pkl()\n",
    "\n",
    "# Example usage: print the filenames of all loaded models\n",
    "for model_info in loaded_models:\n",
    "    print(f\"Loaded model from: {model_info['filename']}\")\n"
   ]
  },
  {
   "cell_type": "code",
   "execution_count": null,
   "id": "ff2f26bd",
   "metadata": {},
   "outputs": [],
   "source": []
  }
 ],
 "metadata": {
  "kernelspec": {
   "display_name": "Python 3 (ipykernel)",
   "language": "python",
   "name": "python3"
  },
  "language_info": {
   "codemirror_mode": {
    "name": "ipython",
    "version": 3
   },
   "file_extension": ".py",
   "mimetype": "text/x-python",
   "name": "python",
   "nbconvert_exporter": "python",
   "pygments_lexer": "ipython3",
   "version": "3.11.5"
  }
 },
 "nbformat": 4,
 "nbformat_minor": 5
}
